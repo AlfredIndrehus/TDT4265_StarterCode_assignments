{
 "cells": [
  {
   "cell_type": "markdown",
   "metadata": {},
   "source": [
    "# Assignment 1 Report"
   ]
  },
  {
   "cell_type": "markdown",
   "metadata": {},
   "source": [
    "This is an outline for your report to ease the amount of work required to create your report. Jupyter notebook supports markdown, and I recommend you to check out this [cheat sheet](https://github.com/adam-p/markdown-here/wiki/Markdown-Cheatsheet). If you are not familiar with markdown.\n",
    "\n",
    "Before delivery, **remember to convert this file to PDF**. You can do it in two ways:\n",
    "1. Print the webpage (ctrl+P or cmd+P)\n",
    "2. Export with latex. This is somewhat more difficult, but you'll get somehwat of a \"prettier\" PDF. Go to File -> Download as -> PDF via LaTeX. You might have to install nbconvert and pandoc through conda; `conda install nbconvert pandoc`."
   ]
  },
  {
   "cell_type": "markdown",
   "metadata": {},
   "source": [
    "# Task 1"
   ]
  },
  {
   "cell_type": "markdown",
   "metadata": {},
   "source": [
    "![](Task1a_1.JPG)\n",
    "![](Task1a_2.JPG)"
   ]
  },
  {
   "cell_type": "markdown",
   "metadata": {},
   "source": [
    "## task 1b)\n",
    "\n",
    "(i) The convolutional layer reduces the sensitivity to translational variations in the input. This is a result of the parameter sharing. NB! Forklar bedre kanskje?\n",
    "\n",
    "## task 1c)\n",
    "\n",
    "Formulas for output of convolutional layer (taken from appendix) :\n",
    "\n",
    "W2 = [(W1 − FW + 2PW )/SW] + 1\n",
    "\n",
    "\n",
    "H2 = [(H1 − FH + 2PH)/SH] + 1\n",
    "\n",
    "Solving these for PW and PH respectively, with H1 = H2, W1 = W2, SH = SW = 1 \n",
    "\n",
    "PW = (FW-1)/2\n",
    "\n",
    "PH = (FH-1)/2 \n",
    "\n",
    "With FH = FW = 7\n",
    "\n",
    "PW = (7-1)/2 = 3 = PH\n",
    "\n",
    "Thus, three layers of padding are needed\n",
    "\n",
    "\n",
    "\n",
    "## task 1c)\n",
    "\n",
    "\n",
    "## task 1d)\n",
    "\n",
    "Fill in task 1a image of hand-written notes which are easy to read, or latex equations here\n",
    "## task 1e)\n",
    "\n",
    "Fill in task 1a image of hand-written notes which are easy to read, or latex equations here\n",
    "## task 1f)\n",
    "\n",
    "Fill in task 1a image of hand-written notes which are easy to read, or latex equations here\n",
    "## task 1g)\n",
    "\n",
    "Fill in task 1a image of hand-written notes which are easy to read, or latex equations here"
   ]
  },
  {
   "cell_type": "markdown",
   "metadata": {},
   "source": [
    "# Task 2\n",
    "\n",
    "### Task 2a)\n",
    "Plot showing validation loss and training loss. On the right the accuracy is also included:\n",
    "![](./plots/task2_plot_save.png)\n",
    "\n",
    "### Task 2b)\n",
    "\n",
    "Training Loss: 0.3922, Training Accuracy: 0.8699  \n",
    "Validation Loss: 0.7848, Validation Accuracy: 0.7354  \n",
    "Test Loss: 0.8025, Test Accuracy: 0.7327  \n",
    "\n"
   ]
  },
  {
   "cell_type": "markdown",
   "metadata": {},
   "source": [
    "# Task 3\n",
    "\n",
    "AHar også implementert Batch Normalization, dette gjorde at modellen nådde Test-accuracy på 0.80 etter bare 5 epochs (early stop). \n",
    "(Trente mye raskere)\n",
    "Arkitekturen er : – (conv-relu-conv-relu-pool)xN → (affine)xM → softmax\n",
    "Bruker også dropout, dette gjorde at scoren ble forbedret enda litt mer\n",
    "Endret også activation function fra RELU til ELU, som også gav forbedringer.\n",
    "Endret fra 32 til 64 filter\n"
   ]
  },
  {
   "cell_type": "markdown",
   "metadata": {},
   "source": [
    "### Task 3a)\n",
    "\n",
    "## Model Architecture\n",
    "## Model Architecture\n",
    "\n",
    "| Layer | Layer Type   | Number of Hidden Units / Number of Filters | Activation Function |\n",
    "|-------|--------------|------------------------------------------|----------------------|\n",
    "| 1     | Conv2D       | 64                                       | ELU                  |\n",
    "|       | BatchNorm2d  |                                          |                      |\n",
    "| 2     | Conv2D       | 64                                       | ELU                  |\n",
    "|       | BatchNorm2d  |                                          |                      |\n",
    "|       | MaxPool2d    |                                          |                      |\n",
    "| 3     | Conv2D       | 128                                      | ELU                  |\n",
    "|       | BatchNorm2d  |                                          |                      |\n",
    "| 4     | Conv2D       | 128                                      | ELU                  |\n",
    "|       | BatchNorm2d  |                                          |                      |\n",
    "|       | MaxPool2D    |                                          |                      |\n",
    "| 5     | Conv2D       | 256                                      | ELU                  |\n",
    "|       | BatchNorm2d  |                                          |                      |\n",
    "| 6     | Conv2D       | 256                                      | ELU                  |\n",
    "|       | BatchNorm2d  |                                          |                      |\n",
    "|       | MaxPool2D    |                                          |                      |\n",
    "| 7     | Conv2D       | 512                                      | ELU                  |\n",
    "|       | BatchNorm2d  |                                          |                      |\n",
    "|       | Dropout      |                                          |                      |\n",
    "| 8     | Conv2D       | 512                                      | ELU                  |\n",
    "|       | BatchNorm2d  |                                          |                      |\n",
    "|       | MaxPool2D    |                                          |                      |\n",
    "| -     | Flatten      |                                          |                      |\n",
    "| 9    | Fully-Connected | 128                                    | ELU                  |\n",
    "| 10    | Fully-Connected | 10                                     | SoftMax               |\n",
    "\n",
    "\n",
    "### Training Details\n",
    "\n",
    "- **Optimizer**: Stochastic Gradient Descent (SGD) optimizer with weight decay (L2 regularization) of 1e-5\n",
    "- **Learning Rate**: 5e-2\n",
    "- **Batch Size**: 64\n",
    "- **Epochs**: 10\n",
    "- **Early Stopping**: Stopped after 4 consecutive epochs of no improvement in validation loss\n",
    "- **Training Dataset**: CIFAR-10\n",
    "\n",
    "\n",
    "\n",
    "\n",
    "### Task 3b)\n",
    "Final train loss, training accuracy, validation accuracy and test accuracy\n",
    "\n",
    "| Metric            | Training  | Validation | Test    |\n",
    "|-------------------|-----------|------------|---------|\n",
    "| Loss              | 0.4198    | 0.5530     | 0.5123  |\n",
    "| Accuracy          | 0.8505    | 0.8125     | 0.8279  |\n",
    "\n",
    "Plots for task3 model\n",
    "![](./plots/task3_model_plot.png)\n",
    "\n",
    "### Task 3c)\n",
    "### Task 3d)\n",
    "### Task 3e)\n",
    "### Task 3f)"
   ]
  },
  {
   "cell_type": "markdown",
   "metadata": {},
   "source": [
    "# Task 4"
   ]
  },
  {
   "cell_type": "markdown",
   "metadata": {},
   "source": [
    "## Task 4a)\n",
    "\n",
    "FILL IN ANSWER. "
   ]
  },
  {
   "cell_type": "markdown",
   "metadata": {},
   "source": [
    "## Task 4b)\n",
    "FILL IN ANSWER\n"
   ]
  },
  {
   "cell_type": "markdown",
   "metadata": {},
   "source": [
    "## Task 4c)\n",
    "FILL IN ANSWER"
   ]
  }
 ],
 "metadata": {
  "kernelspec": {
   "display_name": "tdt4265",
   "language": "python",
   "name": "python3"
  },
  "language_info": {
   "codemirror_mode": {
    "name": "ipython",
    "version": 3
   },
   "file_extension": ".py",
   "mimetype": "text/x-python",
   "name": "python",
   "nbconvert_exporter": "python",
   "pygments_lexer": "ipython3",
   "version": "3.10.13"
  }
 },
 "nbformat": 4,
 "nbformat_minor": 4
}
